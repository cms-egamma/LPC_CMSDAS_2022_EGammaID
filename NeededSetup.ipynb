{
 "cells": [
  {
   "cell_type": "code",
   "execution_count": null,
   "id": "f935c7c2",
   "metadata": {},
   "outputs": [],
   "source": [
    "%%bash\n",
    "#!/bin/bash\n",
    "\n",
    "CMSSW_VER=\"CMSSW_10_6_0\"\n",
    "KERNEL_NAME=\"CMSDAS2022-sci-py-EGamma\"\n",
    "\n",
    "mkdir bin\n",
    "# Make a wrapper script to load CMSSW python\n",
    "cat << 'EOF' > bin/python_wrapper.sh\n",
    "#!/bin/bash\n",
    "source /cvmfs/sft.cern.ch/lcg/views/LCG_97python3/x86_64-centos7-gcc8-opt/setup.sh\n",
    "exec python \"$@\"\n",
    "EOF\n",
    "chmod +x bin/python_wrapper.sh\n",
    "\n",
    "# Create the kernel\n",
    "mkdir -p \"$HOME/.local/share/jupyter/kernels/$KERNEL_NAME\"\n",
    "cat << EOF > \"$HOME/.local/share/jupyter/kernels/$KERNEL_NAME/kernel.json\"\n",
    "{\n",
    " \"display_name\": \"$KERNEL_NAME\", \n",
    " \"language\": \"python\", \n",
    " \"argv\": [\n",
    "  \"$PWD/bin/python_wrapper.sh\", \n",
    "  \"-m\", \n",
    "  \"ipykernel_launcher\", \n",
    "  \"-f\", \n",
    "  \"{connection_file}\"\n",
    " ]\n",
    "}\n",
    "EOF\n",
    "\n",
    "# Report OK\n",
    "echo \"Loaded sft.cern.ch into $KERNEL_NAME!\""
   ]
  }
 ],
 "metadata": {
  "kernelspec": {
   "display_name": "Python 3",
   "language": "python",
   "name": "python3"
  },
  "language_info": {
   "codemirror_mode": {
    "name": "ipython",
    "version": 3
   },
   "file_extension": ".py",
   "mimetype": "text/x-python",
   "name": "python",
   "nbconvert_exporter": "python",
   "pygments_lexer": "ipython3",
   "version": "3.8.5"
  }
 },
 "nbformat": 4,
 "nbformat_minor": 5
}
